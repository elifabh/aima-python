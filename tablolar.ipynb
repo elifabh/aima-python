{
 "cells": [
  {
   "cell_type": "code",
   "execution_count": null,
   "metadata": {},
   "outputs": [],
   "source": []
  },
  {
   "attachments": {},
   "cell_type": "markdown",
   "metadata": {},
   "source": [
    "| **My World Element**                 | **Search Problem Equivalent**             |\n",
    "| -------------------------------------- | ----------------------------------------- |\n",
    "| Floor plan with rooms and walls        | State space graph with connected nodes    |\n",
    "| Agent’s current position               | Current state `(x, y)`                    |\n",
    "| Possible moves (Up, Down, Left, Right) | Actions                                   |\n",
    "| Walls, obstacles, stairs               | Blocked transitions or invalid edges      |\n",
    "| Goal location                          | Goal state                                |\n",
    "| Safe path to destination               | Valid solution path (sequence of actions) |\n"
   ]
  },
  {
   "attachments": {},
   "cell_type": "markdown",
   "metadata": {},
   "source": [
    "| **Component**        | **Description**                                                                                                                                                             |\n",
    "| -------------------- | --------------------------------------------------------------------------------------------------------------------------------------------------------------------------- |\n",
    "| **State Space**      | A 2D floor plan made of tiles — each tile can be walkable, a wall, an obstacle, or stairs.                                                                                  |\n",
    "| **State**            | The agent’s current position `(x, y)` and the known surroundings.                                                                                                           |\n",
    "| **Initial State**    | The agent’s starting location.                                                                                                                                              |\n",
    "| **Actions**          | `Up`, `Down`, `Left`, `Right`. Only valid if not blocked by a wall, obstacle, or stair.                                                                                     |\n",
    "| **Transition Model** | The agent moves deterministically (e.g., `Right` → `(x+1, y)`). If it hits a wall, stair, or obstacle, it marks that path as blocked and learns it cannot move there again. |\n",
    "| **Goal Test**        | The agent reaches the goal tile safely without hitting any blocked or dangerous areas.                                                                                      |\n",
    "| **Path Cost**        | Each valid move = +1. Hitting a wall = +5. Obstacle = +10. Stairs = +100. Reaching the goal = -1000 reward.                                                                 |\n"
   ]
  }
 ],
 "metadata": {
  "language_info": {
   "name": "python"
  },
  "orig_nbformat": 4
 },
 "nbformat": 4,
 "nbformat_minor": 2
}
